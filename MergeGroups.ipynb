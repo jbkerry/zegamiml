{
 "cells": [
  {
   "cell_type": "code",
   "execution_count": 45,
   "metadata": {
    "collapsed": false
   },
   "outputs": [],
   "source": [
    "import pandas as pd\n",
    "def Reset():\n",
    "    '''Starts as new data-frame or can be used to reset\n",
    "    a filled data-frame\n",
    "    \n",
    "    Returns\n",
    "    -------\n",
    "    new_df: empty data-frame with Zegami headers as columns\n",
    "    \n",
    "    '''\n",
    "    \n",
    "    new_df = pd.DataFrame(columns = ['feature_id', 'image', 'chr',\n",
    "              'bp start', 'bp end', 'FDR',\n",
    "              'fold_enrichment', 'negLog10Pvalue',\n",
    "              'num_tags', 'peak_length', 'summit',\n",
    "              'TSNE_JK_x', 'TSNE_JK_y', 'Tags', 'plot_name', 'peak_type'])\n",
    "    return new_df"
   ]
  },
  {
   "cell_type": "code",
   "execution_count": 46,
   "metadata": {
    "collapsed": false
   },
   "outputs": [
    {
     "data": {
      "text/html": [
       "<div>\n",
       "<table border=\"1\" class=\"dataframe\">\n",
       "  <thead>\n",
       "    <tr style=\"text-align: right;\">\n",
       "      <th></th>\n",
       "      <th>feature_id</th>\n",
       "      <th>image</th>\n",
       "      <th>chr</th>\n",
       "      <th>bp start</th>\n",
       "      <th>bp end</th>\n",
       "      <th>FDR</th>\n",
       "      <th>fold_enrichment</th>\n",
       "      <th>negLog10Pvalue</th>\n",
       "      <th>num_tags</th>\n",
       "      <th>peak_length</th>\n",
       "      <th>summit</th>\n",
       "      <th>TSNE_JK_x</th>\n",
       "      <th>TSNE_JK_y</th>\n",
       "      <th>Tags</th>\n",
       "      <th>plot_name</th>\n",
       "      <th>peak_type</th>\n",
       "    </tr>\n",
       "  </thead>\n",
       "  <tbody>\n",
       "  </tbody>\n",
       "</table>\n",
       "</div>"
      ],
      "text/plain": [
       "Empty DataFrame\n",
       "Columns: [feature_id, image, chr, bp start, bp end, FDR, fold_enrichment, negLog10Pvalue, num_tags, peak_length, summit, TSNE_JK_x, TSNE_JK_y, Tags, plot_name, peak_type]\n",
       "Index: []"
      ]
     },
     "execution_count": 46,
     "metadata": {},
     "output_type": "execute_result"
    }
   ],
   "source": [
    "df = Reset()\n",
    "df"
   ]
  },
  {
   "cell_type": "code",
   "execution_count": 47,
   "metadata": {
    "collapsed": true
   },
   "outputs": [],
   "source": [
    "def AppendGroup(df, table, name, peak_type):\n",
    "    '''Append and import sub data-frame to the main data-frame\n",
    "    \n",
    "    Parameters\n",
    "    ----------\n",
    "    df: the pandas data-frame to append to new rows to\n",
    "    table: tab-delimited output from zegami\n",
    "    name: name of this plot\n",
    "    peak_type: are the peaks low, high, absent etc.\n",
    "    \n",
    "    Returns\n",
    "    -------\n",
    "    update_df: updated df consisting of original plus the new data-frame\n",
    "    \n",
    "    '''\n",
    "    \n",
    "    _temp_df = pd.read_csv(table, sep='\\t', header=0)\n",
    "    _temp_df['plot_name'] = name\n",
    "    _temp_df['peak_type'] = peak_type\n",
    "    update_df = df.append(_temp_df, ignore_index=True)\n",
    "    return update_df"
   ]
  },
  {
   "cell_type": "code",
   "execution_count": 49,
   "metadata": {
    "collapsed": false
   },
   "outputs": [],
   "source": [
    "df = AppendGroup(df, 'plot16_data.txt', 'plot16', 'high')"
   ]
  },
  {
   "cell_type": "code",
   "execution_count": 53,
   "metadata": {
    "collapsed": false
   },
   "outputs": [
    {
     "data": {
      "text/html": [
       "<div>\n",
       "<table border=\"1\" class=\"dataframe\">\n",
       "  <thead>\n",
       "    <tr style=\"text-align: right;\">\n",
       "      <th></th>\n",
       "      <th>feature_id</th>\n",
       "      <th>image</th>\n",
       "      <th>chr</th>\n",
       "      <th>bp start</th>\n",
       "      <th>bp end</th>\n",
       "      <th>FDR</th>\n",
       "      <th>fold_enrichment</th>\n",
       "      <th>negLog10Pvalue</th>\n",
       "      <th>num_tags</th>\n",
       "      <th>peak_length</th>\n",
       "      <th>summit</th>\n",
       "      <th>TSNE_JK_x</th>\n",
       "      <th>TSNE_JK_y</th>\n",
       "      <th>Tags</th>\n",
       "      <th>plot_name</th>\n",
       "      <th>peak_type</th>\n",
       "    </tr>\n",
       "  </thead>\n",
       "  <tbody>\n",
       "    <tr>\n",
       "      <th>0</th>\n",
       "      <td>chr11_100754612_100755087</td>\n",
       "      <td>chr11_100754612_100755087.png</td>\n",
       "      <td>chr11</td>\n",
       "      <td>100754612.0</td>\n",
       "      <td>100755087.0</td>\n",
       "      <td>24.65</td>\n",
       "      <td>2.95</td>\n",
       "      <td>27.75</td>\n",
       "      <td>140.59</td>\n",
       "      <td>476.0</td>\n",
       "      <td>100754915.0</td>\n",
       "      <td>-11.129446</td>\n",
       "      <td>-2.832387</td>\n",
       "      <td>NaN</td>\n",
       "      <td>plot16</td>\n",
       "      <td>high</td>\n",
       "    </tr>\n",
       "    <tr>\n",
       "      <th>1</th>\n",
       "      <td>chr15_98461940_98462172</td>\n",
       "      <td>chr15_98461940_98462172.png</td>\n",
       "      <td>chr15</td>\n",
       "      <td>98461940.0</td>\n",
       "      <td>98462172.0</td>\n",
       "      <td>13.46</td>\n",
       "      <td>2.19</td>\n",
       "      <td>16.33</td>\n",
       "      <td>139.10</td>\n",
       "      <td>233.0</td>\n",
       "      <td>98462056.0</td>\n",
       "      <td>-7.970066</td>\n",
       "      <td>-1.721786</td>\n",
       "      <td>NaN</td>\n",
       "      <td>plot16</td>\n",
       "      <td>high</td>\n",
       "    </tr>\n",
       "    <tr>\n",
       "      <th>2</th>\n",
       "      <td>chr10_69559571_69560023</td>\n",
       "      <td>chr10_69559571_69560023.png</td>\n",
       "      <td>chr10</td>\n",
       "      <td>69559571.0</td>\n",
       "      <td>69560023.0</td>\n",
       "      <td>43.47</td>\n",
       "      <td>3.94</td>\n",
       "      <td>46.93</td>\n",
       "      <td>162.10</td>\n",
       "      <td>453.0</td>\n",
       "      <td>69559804.0</td>\n",
       "      <td>-10.071530</td>\n",
       "      <td>-1.586616</td>\n",
       "      <td>NaN</td>\n",
       "      <td>plot16</td>\n",
       "      <td>high</td>\n",
       "    </tr>\n",
       "    <tr>\n",
       "      <th>3</th>\n",
       "      <td>chr8_86146348_86146583</td>\n",
       "      <td>chr8_86146348_86146583.png</td>\n",
       "      <td>chr8</td>\n",
       "      <td>86146348.0</td>\n",
       "      <td>86146583.0</td>\n",
       "      <td>18.46</td>\n",
       "      <td>2.49</td>\n",
       "      <td>21.44</td>\n",
       "      <td>143.55</td>\n",
       "      <td>236.0</td>\n",
       "      <td>86146434.0</td>\n",
       "      <td>-8.717327</td>\n",
       "      <td>-0.089539</td>\n",
       "      <td>NaN</td>\n",
       "      <td>plot16</td>\n",
       "      <td>high</td>\n",
       "    </tr>\n",
       "    <tr>\n",
       "      <th>4</th>\n",
       "      <td>chr7_28311474_28311866</td>\n",
       "      <td>chr7_28311474_28311866.png</td>\n",
       "      <td>chr7</td>\n",
       "      <td>28311474.0</td>\n",
       "      <td>28311866.0</td>\n",
       "      <td>50.65</td>\n",
       "      <td>4.91</td>\n",
       "      <td>54.25</td>\n",
       "      <td>148.75</td>\n",
       "      <td>393.0</td>\n",
       "      <td>28311674.0</td>\n",
       "      <td>-9.152267</td>\n",
       "      <td>-2.347706</td>\n",
       "      <td>NaN</td>\n",
       "      <td>plot16</td>\n",
       "      <td>high</td>\n",
       "    </tr>\n",
       "  </tbody>\n",
       "</table>\n",
       "</div>"
      ],
      "text/plain": [
       "                  feature_id                          image    chr  \\\n",
       "0  chr11_100754612_100755087  chr11_100754612_100755087.png  chr11   \n",
       "1    chr15_98461940_98462172    chr15_98461940_98462172.png  chr15   \n",
       "2    chr10_69559571_69560023    chr10_69559571_69560023.png  chr10   \n",
       "3     chr8_86146348_86146583     chr8_86146348_86146583.png   chr8   \n",
       "4     chr7_28311474_28311866     chr7_28311474_28311866.png   chr7   \n",
       "\n",
       "      bp start       bp end    FDR  fold_enrichment  negLog10Pvalue  num_tags  \\\n",
       "0  100754612.0  100755087.0  24.65             2.95           27.75    140.59   \n",
       "1   98461940.0   98462172.0  13.46             2.19           16.33    139.10   \n",
       "2   69559571.0   69560023.0  43.47             3.94           46.93    162.10   \n",
       "3   86146348.0   86146583.0  18.46             2.49           21.44    143.55   \n",
       "4   28311474.0   28311866.0  50.65             4.91           54.25    148.75   \n",
       "\n",
       "   peak_length       summit  TSNE_JK_x  TSNE_JK_y  Tags plot_name peak_type  \n",
       "0        476.0  100754915.0 -11.129446  -2.832387   NaN    plot16      high  \n",
       "1        233.0   98462056.0  -7.970066  -1.721786   NaN    plot16      high  \n",
       "2        453.0   69559804.0 -10.071530  -1.586616   NaN    plot16      high  \n",
       "3        236.0   86146434.0  -8.717327  -0.089539   NaN    plot16      high  \n",
       "4        393.0   28311674.0  -9.152267  -2.347706   NaN    plot16      high  "
      ]
     },
     "execution_count": 53,
     "metadata": {},
     "output_type": "execute_result"
    }
   ],
   "source": [
    "df[:5]"
   ]
  }
 ],
 "metadata": {
  "kernelspec": {
   "display_name": "Python 3",
   "language": "python",
   "name": "python3"
  },
  "language_info": {
   "codemirror_mode": {
    "name": "ipython",
    "version": 3
   },
   "file_extension": ".py",
   "mimetype": "text/x-python",
   "name": "python",
   "nbconvert_exporter": "python",
   "pygments_lexer": "ipython3",
   "version": "3.6.0"
  }
 },
 "nbformat": 4,
 "nbformat_minor": 2
}
